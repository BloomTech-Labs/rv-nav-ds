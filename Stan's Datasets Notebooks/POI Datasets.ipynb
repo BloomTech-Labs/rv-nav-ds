{
 "cells": [
  {
   "cell_type": "markdown",
   "metadata": {},
   "source": [
    "# Loading Datasets From POI Factory\n",
    "\n",
    "http://www.poi-factory.com/poifiles/popular"
   ]
  },
  {
   "cell_type": "code",
   "execution_count": 1,
   "metadata": {},
   "outputs": [],
   "source": [
    "# Pandas importing for EDA\n",
    "import pandas as pd"
   ]
  },
  {
   "cell_type": "code",
   "execution_count": 2,
   "metadata": {},
   "outputs": [
    {
     "name": "stdout",
     "output_type": "stream",
     "text": [
      "(1863, 9)\n"
     ]
    },
    {
     "data": {
      "text/html": [
       "<div>\n",
       "<style scoped>\n",
       "    .dataframe tbody tr th:only-of-type {\n",
       "        vertical-align: middle;\n",
       "    }\n",
       "\n",
       "    .dataframe tbody tr th {\n",
       "        vertical-align: top;\n",
       "    }\n",
       "\n",
       "    .dataframe thead th {\n",
       "        text-align: right;\n",
       "    }\n",
       "</style>\n",
       "<table border=\"1\" class=\"dataframe\">\n",
       "  <thead>\n",
       "    <tr style=\"text-align: right;\">\n",
       "      <th></th>\n",
       "      <th>Longitude</th>\n",
       "      <th>Latitude</th>\n",
       "      <th>Truck Stop Name</th>\n",
       "      <th>Phone Number</th>\n",
       "      <th>Street Address</th>\n",
       "      <th>City</th>\n",
       "      <th>State/Province</th>\n",
       "      <th>Postal Code</th>\n",
       "      <th>Country</th>\n",
       "    </tr>\n",
       "  </thead>\n",
       "  <tbody>\n",
       "    <tr>\n",
       "      <th>0</th>\n",
       "      <td>-113.998390</td>\n",
       "      <td>51.292840</td>\n",
       "      <td>Flying J - Cardlock 10 Truck Parking Spots; #0813</td>\n",
       "      <td>403-948-4193</td>\n",
       "      <td>85 East Lake Cresent</td>\n",
       "      <td>Airdrie</td>\n",
       "      <td>AB</td>\n",
       "      <td>T4B 2B5</td>\n",
       "      <td>CAN</td>\n",
       "    </tr>\n",
       "    <tr>\n",
       "      <th>1</th>\n",
       "      <td>-111.867535</td>\n",
       "      <td>50.572799</td>\n",
       "      <td>Flying J 20 Truck Parking Spots; #0792</td>\n",
       "      <td>403-362-5594</td>\n",
       "      <td>Hwy 1 &amp; CR542; 1260 Cassils Road East</td>\n",
       "      <td>Brooks</td>\n",
       "      <td>AB</td>\n",
       "      <td>T1R 1B7</td>\n",
       "      <td>CAN</td>\n",
       "    </tr>\n",
       "    <tr>\n",
       "      <th>2</th>\n",
       "      <td>-114.004910</td>\n",
       "      <td>51.075000</td>\n",
       "      <td>Flying J - Cardlock 130 Truck Parking Spots; #...</td>\n",
       "      <td>403-250-3835</td>\n",
       "      <td>Hwy 1 Barlow Trl Exit; 2525 23rd St NE</td>\n",
       "      <td>Calgary</td>\n",
       "      <td>AB</td>\n",
       "      <td>T2E 7M1</td>\n",
       "      <td>CAN</td>\n",
       "    </tr>\n",
       "    <tr>\n",
       "      <th>3</th>\n",
       "      <td>-113.974949</td>\n",
       "      <td>50.990041</td>\n",
       "      <td>Flying J 15 Truck Parking Spots; #0793</td>\n",
       "      <td>403-236-2404</td>\n",
       "      <td>Hwy 2; 4216 72 Ave SE</td>\n",
       "      <td>Calgary</td>\n",
       "      <td>AB</td>\n",
       "      <td>T2C 2C1</td>\n",
       "      <td>CAN</td>\n",
       "    </tr>\n",
       "    <tr>\n",
       "      <th>4</th>\n",
       "      <td>-114.004072</td>\n",
       "      <td>51.009581</td>\n",
       "      <td>Flying J 80 Truck Parking Spots; #0848</td>\n",
       "      <td>403-569-6250</td>\n",
       "      <td>Hwy 2; 4949 Barlow Trail SE</td>\n",
       "      <td>Calgary</td>\n",
       "      <td>AB</td>\n",
       "      <td>T2B 3B5</td>\n",
       "      <td>CAN</td>\n",
       "    </tr>\n",
       "  </tbody>\n",
       "</table>\n",
       "</div>"
      ],
      "text/plain": [
       "    Longitude   Latitude                                    Truck Stop Name  \\\n",
       "0 -113.998390  51.292840  Flying J - Cardlock 10 Truck Parking Spots; #0813   \n",
       "1 -111.867535  50.572799             Flying J 20 Truck Parking Spots; #0792   \n",
       "2 -114.004910  51.075000  Flying J - Cardlock 130 Truck Parking Spots; #...   \n",
       "3 -113.974949  50.990041             Flying J 15 Truck Parking Spots; #0793   \n",
       "4 -114.004072  51.009581             Flying J 80 Truck Parking Spots; #0848   \n",
       "\n",
       "   Phone Number                          Street Address     City  \\\n",
       "0  403-948-4193                    85 East Lake Cresent  Airdrie   \n",
       "1  403-362-5594   Hwy 1 & CR542; 1260 Cassils Road East   Brooks   \n",
       "2  403-250-3835  Hwy 1 Barlow Trl Exit; 2525 23rd St NE  Calgary   \n",
       "3  403-236-2404                   Hwy 2; 4216 72 Ave SE  Calgary   \n",
       "4  403-569-6250             Hwy 2; 4949 Barlow Trail SE  Calgary   \n",
       "\n",
       "  State/Province Postal Code Country  \n",
       "0             AB     T4B 2B5     CAN  \n",
       "1             AB     T1R 1B7     CAN  \n",
       "2             AB     T2E 7M1     CAN  \n",
       "3             AB     T2C 2C1     CAN  \n",
       "4             AB     T2B 3B5     CAN  "
      ]
     },
     "execution_count": 2,
     "metadata": {},
     "output_type": "execute_result"
    }
   ],
   "source": [
    "# Truck Stops Dataset\n",
    "\n",
    "truck_stops = pd.read_csv('Truck_Stops.csv', header=None, \n",
    "                          names=['Longitude', 'Latitude', 'Truck Stop Name', \n",
    "                                 'Phone Number','Street Address', 'City', \n",
    "                                 'State/Province', 'Postal Code', 'Country'])\n",
    "\n",
    "print(truck_stops.shape)\n",
    "truck_stops.head()"
   ]
  },
  {
   "cell_type": "code",
   "execution_count": 3,
   "metadata": {},
   "outputs": [
    {
     "name": "stdout",
     "output_type": "stream",
     "text": [
      "<class 'pandas.core.frame.DataFrame'>\n",
      "RangeIndex: 1863 entries, 0 to 1862\n",
      "Data columns (total 9 columns):\n",
      "Longitude          1863 non-null float64\n",
      "Latitude           1863 non-null float64\n",
      "Truck Stop Name    1863 non-null object\n",
      "Phone Number       1863 non-null object\n",
      "Street Address     1863 non-null object\n",
      "City               1863 non-null object\n",
      "State/Province     1863 non-null object\n",
      "Postal Code        1863 non-null object\n",
      "Country            1863 non-null object\n",
      "dtypes: float64(2), object(7)\n",
      "memory usage: 131.1+ KB\n"
     ]
    }
   ],
   "source": [
    "truck_stops.info()"
   ]
  },
  {
   "cell_type": "code",
   "execution_count": 4,
   "metadata": {},
   "outputs": [
    {
     "name": "stdout",
     "output_type": "stream",
     "text": [
      "(1435, 4)\n"
     ]
    },
    {
     "data": {
      "text/html": [
       "<div>\n",
       "<style scoped>\n",
       "    .dataframe tbody tr th:only-of-type {\n",
       "        vertical-align: middle;\n",
       "    }\n",
       "\n",
       "    .dataframe tbody tr th {\n",
       "        vertical-align: top;\n",
       "    }\n",
       "\n",
       "    .dataframe thead th {\n",
       "        text-align: right;\n",
       "    }\n",
       "</style>\n",
       "<table border=\"1\" class=\"dataframe\">\n",
       "  <thead>\n",
       "    <tr style=\"text-align: right;\">\n",
       "      <th></th>\n",
       "      <th>Longitude</th>\n",
       "      <th>Latitude</th>\n",
       "      <th>Dump Site Name</th>\n",
       "      <th>State/Province</th>\n",
       "    </tr>\n",
       "  </thead>\n",
       "  <tbody>\n",
       "    <tr>\n",
       "      <th>0</th>\n",
       "      <td>-114.609141</td>\n",
       "      <td>49.630588</td>\n",
       "      <td>Coleman Travel Alberta Visitor Information Centre</td>\n",
       "      <td>AB</td>\n",
       "    </tr>\n",
       "    <tr>\n",
       "      <th>1</th>\n",
       "      <td>-113.570425</td>\n",
       "      <td>53.644054</td>\n",
       "      <td>St Albert</td>\n",
       "      <td>AB</td>\n",
       "    </tr>\n",
       "    <tr>\n",
       "      <th>2</th>\n",
       "      <td>-114.490795</td>\n",
       "      <td>51.543993</td>\n",
       "      <td>Cremona</td>\n",
       "      <td>AB</td>\n",
       "    </tr>\n",
       "    <tr>\n",
       "      <th>3</th>\n",
       "      <td>-115.366680</td>\n",
       "      <td>51.106145</td>\n",
       "      <td>Canmore good Visitor Center</td>\n",
       "      <td>AB</td>\n",
       "    </tr>\n",
       "    <tr>\n",
       "      <th>4</th>\n",
       "      <td>-114.783968</td>\n",
       "      <td>55.271408</td>\n",
       "      <td>Slave Lake Canadian Tire</td>\n",
       "      <td>AB</td>\n",
       "    </tr>\n",
       "  </tbody>\n",
       "</table>\n",
       "</div>"
      ],
      "text/plain": [
       "    Longitude   Latitude                                     Dump Site Name  \\\n",
       "0 -114.609141  49.630588  Coleman Travel Alberta Visitor Information Centre   \n",
       "1 -113.570425  53.644054                                          St Albert   \n",
       "2 -114.490795  51.543993                                            Cremona   \n",
       "3 -115.366680  51.106145                        Canmore good Visitor Center   \n",
       "4 -114.783968  55.271408                           Slave Lake Canadian Tire   \n",
       "\n",
       "  State/Province  \n",
       "0             AB  \n",
       "1             AB  \n",
       "2             AB  \n",
       "3             AB  \n",
       "4             AB  "
      ]
     },
     "execution_count": 4,
     "metadata": {},
     "output_type": "execute_result"
    }
   ],
   "source": [
    "# Dump Stations Dataset\n",
    "\n",
    "dump_stations = pd.read_csv('Dump_Stations.csv', encoding='ISO-8859-1', header=None)\n",
    "\n",
    "# Removing columns with null values\n",
    "dump_stations = dump_stations.drop(columns=[3, 5, 6, 7, 8])\n",
    "\n",
    "# Adding column header names\n",
    "dump_stations = dump_stations.rename(columns={0: 'Longitude', 1: 'Latitude', \n",
    "                                              2: 'Dump Site Name', 4: 'State/Province'})\n",
    "\n",
    "print(dump_stations.shape)\n",
    "dump_stations.head()"
   ]
  },
  {
   "cell_type": "code",
   "execution_count": 5,
   "metadata": {},
   "outputs": [
    {
     "name": "stdout",
     "output_type": "stream",
     "text": [
      "<class 'pandas.core.frame.DataFrame'>\n",
      "RangeIndex: 1435 entries, 0 to 1434\n",
      "Data columns (total 4 columns):\n",
      "Longitude         1435 non-null float64\n",
      "Latitude          1435 non-null float64\n",
      "Dump Site Name    1435 non-null object\n",
      "State/Province    1434 non-null object\n",
      "dtypes: float64(2), object(2)\n",
      "memory usage: 45.0+ KB\n"
     ]
    }
   ],
   "source": [
    "dump_stations.info()"
   ]
  },
  {
   "cell_type": "code",
   "execution_count": 7,
   "metadata": {},
   "outputs": [
    {
     "data": {
      "text/html": [
       "<div>\n",
       "<style scoped>\n",
       "    .dataframe tbody tr th:only-of-type {\n",
       "        vertical-align: middle;\n",
       "    }\n",
       "\n",
       "    .dataframe tbody tr th {\n",
       "        vertical-align: top;\n",
       "    }\n",
       "\n",
       "    .dataframe thead th {\n",
       "        text-align: right;\n",
       "    }\n",
       "</style>\n",
       "<table border=\"1\" class=\"dataframe\">\n",
       "  <thead>\n",
       "    <tr style=\"text-align: right;\">\n",
       "      <th></th>\n",
       "      <th>Longitude</th>\n",
       "      <th>Latitude</th>\n",
       "      <th>Dump Site Name</th>\n",
       "      <th>State/Province</th>\n",
       "    </tr>\n",
       "  </thead>\n",
       "  <tbody>\n",
       "    <tr>\n",
       "      <th>1383</th>\n",
       "      <td>-116.619984</td>\n",
       "      <td>51.84209</td>\n",
       "      <td>Lake</td>\n",
       "      <td>NaN</td>\n",
       "    </tr>\n",
       "  </tbody>\n",
       "</table>\n",
       "</div>"
      ],
      "text/plain": [
       "       Longitude  Latitude Dump Site Name State/Province\n",
       "1383 -116.619984  51.84209           Lake            NaN"
      ]
     },
     "execution_count": 7,
     "metadata": {},
     "output_type": "execute_result"
    }
   ],
   "source": [
    "dump_stations[dump_stations.isna().any(axis=1)]"
   ]
  },
  {
   "cell_type": "code",
   "execution_count": 9,
   "metadata": {},
   "outputs": [
    {
     "name": "stdout",
     "output_type": "stream",
     "text": [
      "<class 'pandas.core.frame.DataFrame'>\n",
      "RangeIndex: 1435 entries, 0 to 1434\n",
      "Data columns (total 4 columns):\n",
      "Longitude         1435 non-null float64\n",
      "Latitude          1435 non-null float64\n",
      "Dump Site Name    1435 non-null object\n",
      "State/Province    1435 non-null object\n",
      "dtypes: float64(2), object(2)\n",
      "memory usage: 45.0+ KB\n"
     ]
    }
   ],
   "source": [
    "dump_stations = dump_stations.fillna('AB')\n",
    "\n",
    "dump_stations.info()"
   ]
  },
  {
   "cell_type": "code",
   "execution_count": 10,
   "metadata": {},
   "outputs": [
    {
     "name": "stdout",
     "output_type": "stream",
     "text": [
      "(21823, 4)\n"
     ]
    },
    {
     "data": {
      "text/html": [
       "<div>\n",
       "<style scoped>\n",
       "    .dataframe tbody tr th:only-of-type {\n",
       "        vertical-align: middle;\n",
       "    }\n",
       "\n",
       "    .dataframe tbody tr th {\n",
       "        vertical-align: top;\n",
       "    }\n",
       "\n",
       "    .dataframe thead th {\n",
       "        text-align: right;\n",
       "    }\n",
       "</style>\n",
       "<table border=\"1\" class=\"dataframe\">\n",
       "  <thead>\n",
       "    <tr style=\"text-align: right;\">\n",
       "      <th></th>\n",
       "      <th>Longitude</th>\n",
       "      <th>Latitude</th>\n",
       "      <th>Attraction Name</th>\n",
       "      <th>Address</th>\n",
       "    </tr>\n",
       "  </thead>\n",
       "  <tbody>\n",
       "    <tr>\n",
       "      <th>0</th>\n",
       "      <td>-111.852043</td>\n",
       "      <td>34.564199</td>\n",
       "      <td>0 Mile Post General Crook Trail</td>\n",
       "      <td>125 E Hollamon St,Camp Verde AZ 86322</td>\n",
       "    </tr>\n",
       "    <tr>\n",
       "      <th>1</th>\n",
       "      <td>-115.112489</td>\n",
       "      <td>36.155276</td>\n",
       "      <td>1 Million In Cash And Worlds Largest Gold Nugg...</td>\n",
       "      <td>128 E Fremont St,Las Vegas NV 89104,800-237-6537</td>\n",
       "    </tr>\n",
       "    <tr>\n",
       "      <th>2</th>\n",
       "      <td>-115.174634</td>\n",
       "      <td>36.102099</td>\n",
       "      <td>1/3 Scale Statue Of Liberty-empire State Build...</td>\n",
       "      <td>3790 Blvd S,Las Vegas NV 89109,800-693-6763</td>\n",
       "    </tr>\n",
       "    <tr>\n",
       "      <th>3</th>\n",
       "      <td>-122.662532</td>\n",
       "      <td>44.853749</td>\n",
       "      <td>10 Waterfalls-Walk Behind One</td>\n",
       "      <td>20024 Silver Falls Hwy Se,Sublimity OR 97385,5...</td>\n",
       "    </tr>\n",
       "    <tr>\n",
       "      <th>4</th>\n",
       "      <td>-119.627036</td>\n",
       "      <td>36.573152</td>\n",
       "      <td>10-Ft California Dancing Raisin At Spike And R...</td>\n",
       "      <td>2910 Pea Soup Anderson Blvd,Selma CA 93662</td>\n",
       "    </tr>\n",
       "  </tbody>\n",
       "</table>\n",
       "</div>"
      ],
      "text/plain": [
       "    Longitude   Latitude                                    Attraction Name  \\\n",
       "0 -111.852043  34.564199                    0 Mile Post General Crook Trail   \n",
       "1 -115.112489  36.155276  1 Million In Cash And Worlds Largest Gold Nugg...   \n",
       "2 -115.174634  36.102099  1/3 Scale Statue Of Liberty-empire State Build...   \n",
       "3 -122.662532  44.853749                      10 Waterfalls-Walk Behind One   \n",
       "4 -119.627036  36.573152  10-Ft California Dancing Raisin At Spike And R...   \n",
       "\n",
       "                                             Address  \n",
       "0              125 E Hollamon St,Camp Verde AZ 86322  \n",
       "1   128 E Fremont St,Las Vegas NV 89104,800-237-6537  \n",
       "2        3790 Blvd S,Las Vegas NV 89109,800-693-6763  \n",
       "3  20024 Silver Falls Hwy Se,Sublimity OR 97385,5...  \n",
       "4         2910 Pea Soup Anderson Blvd,Selma CA 93662  "
      ]
     },
     "execution_count": 10,
     "metadata": {},
     "output_type": "execute_result"
    }
   ],
   "source": [
    "tourist_attractions = pd.read_csv('All_States_Offbeat_Tourist_Attractions.csv', encoding='ISO-8859-1', header=None, \n",
    "                                  names=['Longitude', 'Latitude', 'Attraction Name', 'Address'])\n",
    "\n",
    "print(tourist_attractions.shape)\n",
    "tourist_attractions.head()"
   ]
  },
  {
   "cell_type": "code",
   "execution_count": 11,
   "metadata": {},
   "outputs": [
    {
     "name": "stdout",
     "output_type": "stream",
     "text": [
      "<class 'pandas.core.frame.DataFrame'>\n",
      "RangeIndex: 21823 entries, 0 to 21822\n",
      "Data columns (total 4 columns):\n",
      "Longitude          21823 non-null float64\n",
      "Latitude           21823 non-null float64\n",
      "Attraction Name    21823 non-null object\n",
      "Address            21823 non-null object\n",
      "dtypes: float64(2), object(2)\n",
      "memory usage: 682.1+ KB\n"
     ]
    }
   ],
   "source": [
    "tourist_attractions.info()"
   ]
  },
  {
   "cell_type": "code",
   "execution_count": 12,
   "metadata": {},
   "outputs": [
    {
     "name": "stdout",
     "output_type": "stream",
     "text": [
      "(330, 9)\n"
     ]
    },
    {
     "data": {
      "text/html": [
       "<div>\n",
       "<style scoped>\n",
       "    .dataframe tbody tr th:only-of-type {\n",
       "        vertical-align: middle;\n",
       "    }\n",
       "\n",
       "    .dataframe tbody tr th {\n",
       "        vertical-align: top;\n",
       "    }\n",
       "\n",
       "    .dataframe thead th {\n",
       "        text-align: right;\n",
       "    }\n",
       "</style>\n",
       "<table border=\"1\" class=\"dataframe\">\n",
       "  <thead>\n",
       "    <tr style=\"text-align: right;\">\n",
       "      <th></th>\n",
       "      <th>Longitude</th>\n",
       "      <th>Latitude</th>\n",
       "      <th>Campsite Name</th>\n",
       "      <th>Phone Number</th>\n",
       "      <th>Street Address</th>\n",
       "      <th>City</th>\n",
       "      <th>State/Province</th>\n",
       "      <th>Postal Code</th>\n",
       "      <th>Country</th>\n",
       "    </tr>\n",
       "  </thead>\n",
       "  <tbody>\n",
       "    <tr>\n",
       "      <th>0</th>\n",
       "      <td>-112.771679</td>\n",
       "      <td>51.471597</td>\n",
       "      <td>Dinosaur Trail RV Resort (GNP)</td>\n",
       "      <td>(403) 823-9333</td>\n",
       "      <td>Hwy 838 N</td>\n",
       "      <td>Drumheller</td>\n",
       "      <td>AB</td>\n",
       "      <td>T0J 0Y0</td>\n",
       "      <td>CAN</td>\n",
       "    </tr>\n",
       "    <tr>\n",
       "      <th>1</th>\n",
       "      <td>-118.814088</td>\n",
       "      <td>55.105035</td>\n",
       "      <td>Camp Tamarack RV Park (GNP)</td>\n",
       "      <td>(780) 532-9998</td>\n",
       "      <td>704063 Range Rd 62</td>\n",
       "      <td>Grand Praire</td>\n",
       "      <td>AB</td>\n",
       "      <td>T8W 5B3</td>\n",
       "      <td>CAN</td>\n",
       "    </tr>\n",
       "    <tr>\n",
       "      <th>2</th>\n",
       "      <td>-112.871180</td>\n",
       "      <td>49.711110</td>\n",
       "      <td>Bridgeview RV Resort (Holiday Trails Resort)</td>\n",
       "      <td>(403) 381-2357</td>\n",
       "      <td>1501 2nd Ave W</td>\n",
       "      <td>Lethbridge</td>\n",
       "      <td>AB</td>\n",
       "      <td>T1J 4S5</td>\n",
       "      <td>CAN</td>\n",
       "    </tr>\n",
       "    <tr>\n",
       "      <th>3</th>\n",
       "      <td>-115.032757</td>\n",
       "      <td>52.442406</td>\n",
       "      <td>Wilderness Village at Crimson Lake</td>\n",
       "      <td>(403) 845-2145</td>\n",
       "      <td>Hwy 756</td>\n",
       "      <td>Rocky Mountain House</td>\n",
       "      <td>AB</td>\n",
       "      <td>T4T 1A9</td>\n",
       "      <td>CAN</td>\n",
       "    </tr>\n",
       "    <tr>\n",
       "      <th>4</th>\n",
       "      <td>-117.298700</td>\n",
       "      <td>55.053653</td>\n",
       "      <td>Sherk's RV Park (GNP)</td>\n",
       "      <td>(780) 524-4949</td>\n",
       "      <td>22362 Township Rd</td>\n",
       "      <td>Valleyview</td>\n",
       "      <td>AB</td>\n",
       "      <td>T0H 3N0</td>\n",
       "      <td>CAN</td>\n",
       "    </tr>\n",
       "  </tbody>\n",
       "</table>\n",
       "</div>"
      ],
      "text/plain": [
       "    Longitude   Latitude                                 Campsite Name  \\\n",
       "0 -112.771679  51.471597                Dinosaur Trail RV Resort (GNP)   \n",
       "1 -118.814088  55.105035                   Camp Tamarack RV Park (GNP)   \n",
       "2 -112.871180  49.711110  Bridgeview RV Resort (Holiday Trails Resort)   \n",
       "3 -115.032757  52.442406            Wilderness Village at Crimson Lake   \n",
       "4 -117.298700  55.053653                         Sherk's RV Park (GNP)   \n",
       "\n",
       "     Phone Number      Street Address                  City State/Province  \\\n",
       "0  (403) 823-9333           Hwy 838 N            Drumheller             AB   \n",
       "1  (780) 532-9998  704063 Range Rd 62          Grand Praire             AB   \n",
       "2  (403) 381-2357      1501 2nd Ave W            Lethbridge             AB   \n",
       "3  (403) 845-2145             Hwy 756  Rocky Mountain House             AB   \n",
       "4  (780) 524-4949   22362 Township Rd            Valleyview             AB   \n",
       "\n",
       "  Postal Code Country  \n",
       "0     T0J 0Y0     CAN  \n",
       "1     T8W 5B3     CAN  \n",
       "2     T1J 4S5     CAN  \n",
       "3     T4T 1A9     CAN  \n",
       "4     T0H 3N0     CAN  "
      ]
     },
     "execution_count": 12,
     "metadata": {},
     "output_type": "execute_result"
    }
   ],
   "source": [
    "coast2coast = pd.read_csv('Coast to Coast Campgrounds.csv', header=None, \n",
    "                         names=['Longitude', 'Latitude', 'Campsite Name', \n",
    "                                'Phone Number', 'Street Address', 'City', \n",
    "                                'State/Province', 'Postal Code', 'Country'])\n",
    "print(coast2coast.shape)\n",
    "coast2coast.head()"
   ]
  },
  {
   "cell_type": "code",
   "execution_count": 13,
   "metadata": {},
   "outputs": [
    {
     "name": "stdout",
     "output_type": "stream",
     "text": [
      "<class 'pandas.core.frame.DataFrame'>\n",
      "RangeIndex: 330 entries, 0 to 329\n",
      "Data columns (total 9 columns):\n",
      "Longitude         330 non-null float64\n",
      "Latitude          330 non-null float64\n",
      "Campsite Name     330 non-null object\n",
      "Phone Number      330 non-null object\n",
      "Street Address    330 non-null object\n",
      "City              330 non-null object\n",
      "State/Province    330 non-null object\n",
      "Postal Code       330 non-null object\n",
      "Country           327 non-null object\n",
      "dtypes: float64(2), object(7)\n",
      "memory usage: 23.3+ KB\n"
     ]
    }
   ],
   "source": [
    "coast2coast.info()"
   ]
  },
  {
   "cell_type": "code",
   "execution_count": 14,
   "metadata": {},
   "outputs": [
    {
     "data": {
      "text/html": [
       "<div>\n",
       "<style scoped>\n",
       "    .dataframe tbody tr th:only-of-type {\n",
       "        vertical-align: middle;\n",
       "    }\n",
       "\n",
       "    .dataframe tbody tr th {\n",
       "        vertical-align: top;\n",
       "    }\n",
       "\n",
       "    .dataframe thead th {\n",
       "        text-align: right;\n",
       "    }\n",
       "</style>\n",
       "<table border=\"1\" class=\"dataframe\">\n",
       "  <thead>\n",
       "    <tr style=\"text-align: right;\">\n",
       "      <th></th>\n",
       "      <th>Longitude</th>\n",
       "      <th>Latitude</th>\n",
       "      <th>Campsite Name</th>\n",
       "      <th>Phone Number</th>\n",
       "      <th>Street Address</th>\n",
       "      <th>City</th>\n",
       "      <th>State/Province</th>\n",
       "      <th>Postal Code</th>\n",
       "      <th>Country</th>\n",
       "    </tr>\n",
       "  </thead>\n",
       "  <tbody>\n",
       "    <tr>\n",
       "      <th>235</th>\n",
       "      <td>-63.673078</td>\n",
       "      <td>46.254270</td>\n",
       "      <td>Jellystone Park PEI (GNP)</td>\n",
       "      <td>(844) 734-9644</td>\n",
       "      <td>23714 Trans Canada Hwy</td>\n",
       "      <td>Borden-Carleton</td>\n",
       "      <td>PEI</td>\n",
       "      <td>C0B 1X0</td>\n",
       "      <td>NaN</td>\n",
       "    </tr>\n",
       "    <tr>\n",
       "      <th>236</th>\n",
       "      <td>-63.372319</td>\n",
       "      <td>46.484092</td>\n",
       "      <td>Marco Polo Land (GNP)</td>\n",
       "      <td>(902) 963-2352</td>\n",
       "      <td>7406 Rte 13</td>\n",
       "      <td>Cavendish</td>\n",
       "      <td>PEI</td>\n",
       "      <td>C0A 1N0</td>\n",
       "      <td>NaN</td>\n",
       "    </tr>\n",
       "    <tr>\n",
       "      <th>237</th>\n",
       "      <td>-63.661240</td>\n",
       "      <td>46.560556</td>\n",
       "      <td>Twin Shores Camping Area (GNP)</td>\n",
       "      <td>(902) 836-4142</td>\n",
       "      <td>702 Lower Darnley Rd</td>\n",
       "      <td>Darrnley</td>\n",
       "      <td>PEI</td>\n",
       "      <td>C0B 1M0</td>\n",
       "      <td>NaN</td>\n",
       "    </tr>\n",
       "  </tbody>\n",
       "</table>\n",
       "</div>"
      ],
      "text/plain": [
       "     Longitude   Latitude                   Campsite Name    Phone Number  \\\n",
       "235 -63.673078  46.254270       Jellystone Park PEI (GNP)  (844) 734-9644   \n",
       "236 -63.372319  46.484092           Marco Polo Land (GNP)  (902) 963-2352   \n",
       "237 -63.661240  46.560556  Twin Shores Camping Area (GNP)  (902) 836-4142   \n",
       "\n",
       "             Street Address             City State/Province Postal Code  \\\n",
       "235  23714 Trans Canada Hwy  Borden-Carleton            PEI     C0B 1X0   \n",
       "236             7406 Rte 13        Cavendish            PEI     C0A 1N0   \n",
       "237    702 Lower Darnley Rd         Darrnley            PEI     C0B 1M0   \n",
       "\n",
       "    Country  \n",
       "235     NaN  \n",
       "236     NaN  \n",
       "237     NaN  "
      ]
     },
     "execution_count": 14,
     "metadata": {},
     "output_type": "execute_result"
    }
   ],
   "source": [
    "coast2coast[coast2coast.isna().any(axis=1)]"
   ]
  },
  {
   "cell_type": "code",
   "execution_count": 15,
   "metadata": {},
   "outputs": [
    {
     "name": "stdout",
     "output_type": "stream",
     "text": [
      "<class 'pandas.core.frame.DataFrame'>\n",
      "RangeIndex: 330 entries, 0 to 329\n",
      "Data columns (total 9 columns):\n",
      "Longitude         330 non-null float64\n",
      "Latitude          330 non-null float64\n",
      "Campsite Name     330 non-null object\n",
      "Phone Number      330 non-null object\n",
      "Street Address    330 non-null object\n",
      "City              330 non-null object\n",
      "State/Province    330 non-null object\n",
      "Postal Code       330 non-null object\n",
      "Country           330 non-null object\n",
      "dtypes: float64(2), object(7)\n",
      "memory usage: 23.3+ KB\n"
     ]
    }
   ],
   "source": [
    "coast2coast = coast2coast.fillna('CAN')\n",
    "\n",
    "coast2coast.info()"
   ]
  },
  {
   "cell_type": "code",
   "execution_count": 19,
   "metadata": {},
   "outputs": [
    {
     "name": "stdout",
     "output_type": "stream",
     "text": [
      "(6707, 3)\n"
     ]
    },
    {
     "data": {
      "text/html": [
       "<div>\n",
       "<style scoped>\n",
       "    .dataframe tbody tr th:only-of-type {\n",
       "        vertical-align: middle;\n",
       "    }\n",
       "\n",
       "    .dataframe tbody tr th {\n",
       "        vertical-align: top;\n",
       "    }\n",
       "\n",
       "    .dataframe thead th {\n",
       "        text-align: right;\n",
       "    }\n",
       "</style>\n",
       "<table border=\"1\" class=\"dataframe\">\n",
       "  <thead>\n",
       "    <tr style=\"text-align: right;\">\n",
       "      <th></th>\n",
       "      <th>Longitude</th>\n",
       "      <th>Latitude</th>\n",
       "      <th>Bridge Name</th>\n",
       "    </tr>\n",
       "  </thead>\n",
       "  <tbody>\n",
       "    <tr>\n",
       "      <th>0</th>\n",
       "      <td>-73.681700</td>\n",
       "      <td>42.771700</td>\n",
       "      <td>112th Street Bridge</td>\n",
       "    </tr>\n",
       "    <tr>\n",
       "      <th>1</th>\n",
       "      <td>-73.933139</td>\n",
       "      <td>40.819525</td>\n",
       "      <td>145th Street Bridge</td>\n",
       "    </tr>\n",
       "    <tr>\n",
       "      <th>2</th>\n",
       "      <td>-73.954511</td>\n",
       "      <td>40.756750</td>\n",
       "      <td>59 St (Queensboro) Bridge</td>\n",
       "    </tr>\n",
       "    <tr>\n",
       "      <th>3</th>\n",
       "      <td>-80.084470</td>\n",
       "      <td>26.933700</td>\n",
       "      <td>706 Bridge</td>\n",
       "    </tr>\n",
       "    <tr>\n",
       "      <th>4</th>\n",
       "      <td>-83.145470</td>\n",
       "      <td>41.209800</td>\n",
       "      <td>Abbots Bridge</td>\n",
       "    </tr>\n",
       "  </tbody>\n",
       "</table>\n",
       "</div>"
      ],
      "text/plain": [
       "   Longitude   Latitude                Bridge Name\n",
       "0 -73.681700  42.771700        112th Street Bridge\n",
       "1 -73.933139  40.819525        145th Street Bridge\n",
       "2 -73.954511  40.756750  59 St (Queensboro) Bridge\n",
       "3 -80.084470  26.933700                 706 Bridge\n",
       "4 -83.145470  41.209800              Abbots Bridge"
      ]
     },
     "execution_count": 19,
     "metadata": {},
     "output_type": "execute_result"
    }
   ],
   "source": [
    "bridges_usa = pd.read_csv('Bridges USA.csv', header=None)\n",
    "\n",
    "bridges_usa = bridges_usa.drop(columns=[3])\n",
    "\n",
    "bridges_usa = bridges_usa.rename(columns={0: 'Longitude', 1:'Latitude', 2:'Bridge Name'})\n",
    "\n",
    "print(bridges_usa.shape)\n",
    "bridges_usa.head()"
   ]
  },
  {
   "cell_type": "code",
   "execution_count": 20,
   "metadata": {},
   "outputs": [
    {
     "name": "stdout",
     "output_type": "stream",
     "text": [
      "<class 'pandas.core.frame.DataFrame'>\n",
      "RangeIndex: 6707 entries, 0 to 6706\n",
      "Data columns (total 3 columns):\n",
      "Longitude      6707 non-null float64\n",
      "Latitude       6707 non-null float64\n",
      "Bridge Name    6707 non-null object\n",
      "dtypes: float64(2), object(1)\n",
      "memory usage: 157.3+ KB\n"
     ]
    }
   ],
   "source": [
    "bridges_usa.info()"
   ]
  },
  {
   "cell_type": "code",
   "execution_count": 23,
   "metadata": {},
   "outputs": [
    {
     "name": "stdout",
     "output_type": "stream",
     "text": [
      "(125, 3)\n"
     ]
    },
    {
     "data": {
      "text/html": [
       "<div>\n",
       "<style scoped>\n",
       "    .dataframe tbody tr th:only-of-type {\n",
       "        vertical-align: middle;\n",
       "    }\n",
       "\n",
       "    .dataframe tbody tr th {\n",
       "        vertical-align: top;\n",
       "    }\n",
       "\n",
       "    .dataframe thead th {\n",
       "        text-align: right;\n",
       "    }\n",
       "</style>\n",
       "<table border=\"1\" class=\"dataframe\">\n",
       "  <thead>\n",
       "    <tr style=\"text-align: right;\">\n",
       "      <th></th>\n",
       "      <th>Longitude</th>\n",
       "      <th>Latitude</th>\n",
       "      <th>Descent Description</th>\n",
       "    </tr>\n",
       "  </thead>\n",
       "  <tbody>\n",
       "    <tr>\n",
       "      <th>0</th>\n",
       "      <td>-75.95856</td>\n",
       "      <td>41.07620</td>\n",
       "      <td>HWY 40013 Mountain Top PA short steep</td>\n",
       "    </tr>\n",
       "    <tr>\n",
       "      <th>1</th>\n",
       "      <td>-76.03548</td>\n",
       "      <td>40.98221</td>\n",
       "      <td>I 81 Nb Hazle PA steep</td>\n",
       "    </tr>\n",
       "    <tr>\n",
       "      <th>2</th>\n",
       "      <td>-75.94457</td>\n",
       "      <td>41.17461</td>\n",
       "      <td>I 81 Nb Warrior Run PA 4% for 3 miles</td>\n",
       "    </tr>\n",
       "    <tr>\n",
       "      <th>3</th>\n",
       "      <td>-74.62840</td>\n",
       "      <td>41.37424</td>\n",
       "      <td>I 84 Wb Port Jervis NY steep</td>\n",
       "    </tr>\n",
       "    <tr>\n",
       "      <th>4</th>\n",
       "      <td>-74.78590</td>\n",
       "      <td>41.34467</td>\n",
       "      <td>I 84 Eb Milford PA long steep</td>\n",
       "    </tr>\n",
       "  </tbody>\n",
       "</table>\n",
       "</div>"
      ],
      "text/plain": [
       "   Longitude  Latitude                    Descent Description\n",
       "0  -75.95856  41.07620  HWY 40013 Mountain Top PA short steep\n",
       "1  -76.03548  40.98221                 I 81 Nb Hazle PA steep\n",
       "2  -75.94457  41.17461  I 81 Nb Warrior Run PA 4% for 3 miles\n",
       "3  -74.62840  41.37424           I 84 Wb Port Jervis NY steep\n",
       "4  -74.78590  41.34467          I 84 Eb Milford PA long steep"
      ]
     },
     "execution_count": 23,
     "metadata": {},
     "output_type": "execute_result"
    }
   ],
   "source": [
    "road_descents = pd.read_csv('Descents125.csv', header=None, \n",
    "                            names=['Longitude', 'Latitude', \n",
    "                            'Descent Description'])\n",
    "\n",
    "print(road_descents.shape)\n",
    "road_descents.head()"
   ]
  },
  {
   "cell_type": "code",
   "execution_count": 24,
   "metadata": {},
   "outputs": [
    {
     "name": "stdout",
     "output_type": "stream",
     "text": [
      "<class 'pandas.core.frame.DataFrame'>\n",
      "RangeIndex: 125 entries, 0 to 124\n",
      "Data columns (total 3 columns):\n",
      "Longitude              125 non-null float64\n",
      "Latitude               125 non-null float64\n",
      "Descent Description    125 non-null object\n",
      "dtypes: float64(2), object(1)\n",
      "memory usage: 3.1+ KB\n"
     ]
    }
   ],
   "source": [
    "road_descents.info()"
   ]
  },
  {
   "cell_type": "code",
   "execution_count": null,
   "metadata": {},
   "outputs": [],
   "source": []
  }
 ],
 "metadata": {
  "kernelspec": {
   "display_name": "NAVRV(Python 3.7)",
   "language": "python",
   "name": "navrv"
  },
  "language_info": {
   "codemirror_mode": {
    "name": "ipython",
    "version": 3
   },
   "file_extension": ".py",
   "mimetype": "text/x-python",
   "name": "python",
   "nbconvert_exporter": "python",
   "pygments_lexer": "ipython3",
   "version": "3.7.4"
  }
 },
 "nbformat": 4,
 "nbformat_minor": 4
}
