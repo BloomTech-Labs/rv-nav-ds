{
 "cells": [
  {
   "cell_type": "markdown",
   "metadata": {},
   "source": [
    "# Loading Datasets From POI Factory\n",
    "\n",
    "http://www.poi-factory.com/poifiles/popular"
   ]
  },
  {
   "cell_type": "code",
   "execution_count": 1,
   "metadata": {},
   "outputs": [],
   "source": [
    "# Pandas importing for EDA\n",
    "import pandas as pd"
   ]
  },
  {
   "cell_type": "code",
   "execution_count": 6,
   "metadata": {},
   "outputs": [
    {
     "name": "stdout",
     "output_type": "stream",
     "text": [
      "(1863, 9)\n"
     ]
    },
    {
     "data": {
      "text/html": [
       "<div>\n",
       "<style scoped>\n",
       "    .dataframe tbody tr th:only-of-type {\n",
       "        vertical-align: middle;\n",
       "    }\n",
       "\n",
       "    .dataframe tbody tr th {\n",
       "        vertical-align: top;\n",
       "    }\n",
       "\n",
       "    .dataframe thead th {\n",
       "        text-align: right;\n",
       "    }\n",
       "</style>\n",
       "<table border=\"1\" class=\"dataframe\">\n",
       "  <thead>\n",
       "    <tr style=\"text-align: right;\">\n",
       "      <th></th>\n",
       "      <th>Longitude</th>\n",
       "      <th>Latitude</th>\n",
       "      <th>Truck Stop Name</th>\n",
       "      <th>Phone Number</th>\n",
       "      <th>Street Address</th>\n",
       "      <th>City</th>\n",
       "      <th>State/Province</th>\n",
       "      <th>Postal Code</th>\n",
       "      <th>Country</th>\n",
       "    </tr>\n",
       "  </thead>\n",
       "  <tbody>\n",
       "    <tr>\n",
       "      <th>0</th>\n",
       "      <td>-113.998390</td>\n",
       "      <td>51.292840</td>\n",
       "      <td>Flying J - Cardlock 10 Truck Parking Spots; #0813</td>\n",
       "      <td>403-948-4193</td>\n",
       "      <td>85 East Lake Cresent</td>\n",
       "      <td>Airdrie</td>\n",
       "      <td>AB</td>\n",
       "      <td>T4B 2B5</td>\n",
       "      <td>CAN</td>\n",
       "    </tr>\n",
       "    <tr>\n",
       "      <th>1</th>\n",
       "      <td>-111.867535</td>\n",
       "      <td>50.572799</td>\n",
       "      <td>Flying J 20 Truck Parking Spots; #0792</td>\n",
       "      <td>403-362-5594</td>\n",
       "      <td>Hwy 1 &amp; CR542; 1260 Cassils Road East</td>\n",
       "      <td>Brooks</td>\n",
       "      <td>AB</td>\n",
       "      <td>T1R 1B7</td>\n",
       "      <td>CAN</td>\n",
       "    </tr>\n",
       "    <tr>\n",
       "      <th>2</th>\n",
       "      <td>-114.004910</td>\n",
       "      <td>51.075000</td>\n",
       "      <td>Flying J - Cardlock 130 Truck Parking Spots; #...</td>\n",
       "      <td>403-250-3835</td>\n",
       "      <td>Hwy 1 Barlow Trl Exit; 2525 23rd St NE</td>\n",
       "      <td>Calgary</td>\n",
       "      <td>AB</td>\n",
       "      <td>T2E 7M1</td>\n",
       "      <td>CAN</td>\n",
       "    </tr>\n",
       "    <tr>\n",
       "      <th>3</th>\n",
       "      <td>-113.974949</td>\n",
       "      <td>50.990041</td>\n",
       "      <td>Flying J 15 Truck Parking Spots; #0793</td>\n",
       "      <td>403-236-2404</td>\n",
       "      <td>Hwy 2; 4216 72 Ave SE</td>\n",
       "      <td>Calgary</td>\n",
       "      <td>AB</td>\n",
       "      <td>T2C 2C1</td>\n",
       "      <td>CAN</td>\n",
       "    </tr>\n",
       "    <tr>\n",
       "      <th>4</th>\n",
       "      <td>-114.004072</td>\n",
       "      <td>51.009581</td>\n",
       "      <td>Flying J 80 Truck Parking Spots; #0848</td>\n",
       "      <td>403-569-6250</td>\n",
       "      <td>Hwy 2; 4949 Barlow Trail SE</td>\n",
       "      <td>Calgary</td>\n",
       "      <td>AB</td>\n",
       "      <td>T2B 3B5</td>\n",
       "      <td>CAN</td>\n",
       "    </tr>\n",
       "  </tbody>\n",
       "</table>\n",
       "</div>"
      ],
      "text/plain": [
       "    Longitude   Latitude                                    Truck Stop Name  \\\n",
       "0 -113.998390  51.292840  Flying J - Cardlock 10 Truck Parking Spots; #0813   \n",
       "1 -111.867535  50.572799             Flying J 20 Truck Parking Spots; #0792   \n",
       "2 -114.004910  51.075000  Flying J - Cardlock 130 Truck Parking Spots; #...   \n",
       "3 -113.974949  50.990041             Flying J 15 Truck Parking Spots; #0793   \n",
       "4 -114.004072  51.009581             Flying J 80 Truck Parking Spots; #0848   \n",
       "\n",
       "   Phone Number                          Street Address     City  \\\n",
       "0  403-948-4193                    85 East Lake Cresent  Airdrie   \n",
       "1  403-362-5594   Hwy 1 & CR542; 1260 Cassils Road East   Brooks   \n",
       "2  403-250-3835  Hwy 1 Barlow Trl Exit; 2525 23rd St NE  Calgary   \n",
       "3  403-236-2404                   Hwy 2; 4216 72 Ave SE  Calgary   \n",
       "4  403-569-6250             Hwy 2; 4949 Barlow Trail SE  Calgary   \n",
       "\n",
       "  State/Province Postal Code Country  \n",
       "0             AB     T4B 2B5     CAN  \n",
       "1             AB     T1R 1B7     CAN  \n",
       "2             AB     T2E 7M1     CAN  \n",
       "3             AB     T2C 2C1     CAN  \n",
       "4             AB     T2B 3B5     CAN  "
      ]
     },
     "execution_count": 6,
     "metadata": {},
     "output_type": "execute_result"
    }
   ],
   "source": [
    "# Truck Stops Dataset\n",
    "\n",
    "truck_stops = pd.read_csv('Truck_Stops.csv', header=None, names=['Longitude', 'Latitude', 'Truck Stop Name', \n",
    "                                                        'Phone Number','Street Address', 'City', \n",
    "                                                        'State/Province', 'Postal Code', 'Country'] )\n",
    "\n",
    "print(truck_stops.shape)\n",
    "truck_stops.head()"
   ]
  },
  {
   "cell_type": "code",
   "execution_count": 7,
   "metadata": {},
   "outputs": [
    {
     "name": "stdout",
     "output_type": "stream",
     "text": [
      "<class 'pandas.core.frame.DataFrame'>\n",
      "RangeIndex: 1863 entries, 0 to 1862\n",
      "Data columns (total 9 columns):\n",
      "Longitude          1863 non-null float64\n",
      "Latitude           1863 non-null float64\n",
      "Truck Stop Name    1863 non-null object\n",
      "Phone Number       1863 non-null object\n",
      "Street Address     1863 non-null object\n",
      "City               1863 non-null object\n",
      "State/Province     1863 non-null object\n",
      "Postal Code        1863 non-null object\n",
      "Country            1863 non-null object\n",
      "dtypes: float64(2), object(7)\n",
      "memory usage: 131.1+ KB\n"
     ]
    }
   ],
   "source": [
    "ts.info()"
   ]
  },
  {
   "cell_type": "code",
   "execution_count": 41,
   "metadata": {},
   "outputs": [
    {
     "name": "stdout",
     "output_type": "stream",
     "text": [
      "(1435, 4)\n"
     ]
    },
    {
     "data": {
      "text/html": [
       "<div>\n",
       "<style scoped>\n",
       "    .dataframe tbody tr th:only-of-type {\n",
       "        vertical-align: middle;\n",
       "    }\n",
       "\n",
       "    .dataframe tbody tr th {\n",
       "        vertical-align: top;\n",
       "    }\n",
       "\n",
       "    .dataframe thead th {\n",
       "        text-align: right;\n",
       "    }\n",
       "</style>\n",
       "<table border=\"1\" class=\"dataframe\">\n",
       "  <thead>\n",
       "    <tr style=\"text-align: right;\">\n",
       "      <th></th>\n",
       "      <th>Longitude</th>\n",
       "      <th>Latitude</th>\n",
       "      <th>Dump Site Name</th>\n",
       "      <th>State/Province</th>\n",
       "    </tr>\n",
       "  </thead>\n",
       "  <tbody>\n",
       "    <tr>\n",
       "      <th>0</th>\n",
       "      <td>-114.609141</td>\n",
       "      <td>49.630588</td>\n",
       "      <td>Coleman Travel Alberta Visitor Information Centre</td>\n",
       "      <td>AB</td>\n",
       "    </tr>\n",
       "    <tr>\n",
       "      <th>1</th>\n",
       "      <td>-113.570425</td>\n",
       "      <td>53.644054</td>\n",
       "      <td>St Albert</td>\n",
       "      <td>AB</td>\n",
       "    </tr>\n",
       "    <tr>\n",
       "      <th>2</th>\n",
       "      <td>-114.490795</td>\n",
       "      <td>51.543993</td>\n",
       "      <td>Cremona</td>\n",
       "      <td>AB</td>\n",
       "    </tr>\n",
       "    <tr>\n",
       "      <th>3</th>\n",
       "      <td>-115.366680</td>\n",
       "      <td>51.106145</td>\n",
       "      <td>Canmore good Visitor Center</td>\n",
       "      <td>AB</td>\n",
       "    </tr>\n",
       "    <tr>\n",
       "      <th>4</th>\n",
       "      <td>-114.783968</td>\n",
       "      <td>55.271408</td>\n",
       "      <td>Slave Lake Canadian Tire</td>\n",
       "      <td>AB</td>\n",
       "    </tr>\n",
       "  </tbody>\n",
       "</table>\n",
       "</div>"
      ],
      "text/plain": [
       "    Longitude   Latitude                                     Dump Site Name  \\\n",
       "0 -114.609141  49.630588  Coleman Travel Alberta Visitor Information Centre   \n",
       "1 -113.570425  53.644054                                          St Albert   \n",
       "2 -114.490795  51.543993                                            Cremona   \n",
       "3 -115.366680  51.106145                        Canmore good Visitor Center   \n",
       "4 -114.783968  55.271408                           Slave Lake Canadian Tire   \n",
       "\n",
       "  State/Province  \n",
       "0             AB  \n",
       "1             AB  \n",
       "2             AB  \n",
       "3             AB  \n",
       "4             AB  "
      ]
     },
     "execution_count": 41,
     "metadata": {},
     "output_type": "execute_result"
    }
   ],
   "source": [
    "# Dump Stations Dataset\n",
    "\n",
    "dump_stations = pd.read_csv('Dump Stations.csv', encoding='ISO-8859-1', header=None)\n",
    "\n",
    "# Removing columns with null values\n",
    "dump_stations = dump_stations.drop(columns=[3, 5, 6, 7, 8])\n",
    "\n",
    "# Adding column header names\n",
    "dump_stations = dump_stations.rename(columns={0: 'Longitude', 1: 'Latitude', \n",
    "                                              2: 'Dump Site Name', 4: 'State/Province'})\n",
    "\n",
    "print(dump_stations.shape)\n",
    "dump_stations.head()"
   ]
  },
  {
   "cell_type": "code",
   "execution_count": 42,
   "metadata": {},
   "outputs": [
    {
     "name": "stdout",
     "output_type": "stream",
     "text": [
      "<class 'pandas.core.frame.DataFrame'>\n",
      "RangeIndex: 1435 entries, 0 to 1434\n",
      "Data columns (total 4 columns):\n",
      "Longitude         1435 non-null float64\n",
      "Latitude          1435 non-null float64\n",
      "Dump Site Name    1435 non-null object\n",
      "State/Province    1434 non-null object\n",
      "dtypes: float64(2), object(2)\n",
      "memory usage: 45.0+ KB\n"
     ]
    }
   ],
   "source": [
    "dump_stations.info()"
   ]
  },
  {
   "cell_type": "code",
   "execution_count": null,
   "metadata": {},
   "outputs": [],
   "source": []
  }
 ],
 "metadata": {
  "kernelspec": {
   "display_name": "NAVRV(Python 3.7)",
   "language": "python",
   "name": "navrv"
  },
  "language_info": {
   "codemirror_mode": {
    "name": "ipython",
    "version": 3
   },
   "file_extension": ".py",
   "mimetype": "text/x-python",
   "name": "python",
   "nbconvert_exporter": "python",
   "pygments_lexer": "ipython3",
   "version": "3.7.4"
  }
 },
 "nbformat": 4,
 "nbformat_minor": 4
}
