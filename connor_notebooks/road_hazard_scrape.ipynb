{
 "cells": [
  {
   "cell_type": "markdown",
   "metadata": {},
   "source": [
    "## Notebook Objectives"
   ]
  },
  {
   "cell_type": "markdown",
   "metadata": {},
   "source": [
    "Our objective is to scrape bridge height and coordinate data via the surface tracks API."
   ]
  },
  {
   "cell_type": "code",
   "execution_count": 1,
   "metadata": {
    "colab": {},
    "colab_type": "code",
    "id": "4UFIIScM_oM7"
   },
   "outputs": [],
   "source": [
    "import pandas as pd\n",
    "import numpy as np\n",
    "import os\n",
    "import glob\n",
    "import json\n",
    "import re\n",
    "\n",
    "import time\n",
    "from selenium import webdriver"
   ]
  },
  {
   "cell_type": "markdown",
   "metadata": {
    "colab_type": "text",
    "id": "1ffYUggJACuo"
   },
   "source": [
    "## Selenium"
   ]
  },
  {
   "cell_type": "markdown",
   "metadata": {},
   "source": [
    "View documentation [here](https://selenium-python.readthedocs.io/) to see how to web scrape using the Selenium library. "
   ]
  },
  {
   "cell_type": "code",
   "execution_count": 21,
   "metadata": {
    "colab": {
     "base_uri": "https://localhost:8080/",
     "height": 181
    },
    "colab_type": "code",
    "id": "-yBPPd8V_pDu",
    "outputId": "45b8c925-6fe3-42c2-fac2-0f7b1a71c66a"
   },
   "outputs": [],
   "source": [
    "# json file contains username and password\n",
    "\n",
    "with open('st_credentials.json') as creds:    \n",
    "    credentials = json.load(creds)"
   ]
  },
  {
   "cell_type": "code",
   "execution_count": 22,
   "metadata": {
    "colab": {},
    "colab_type": "code",
    "id": "86IxEzMP_pF5"
   },
   "outputs": [],
   "source": [
    "# Instantiate webdriver object for chrome browser\n",
    "driver = webdriver.Chrome()\n",
    "\n",
    "# Login page\n",
    "driver.get(\"https://www.surfacetracks.com/amember/login\")\n",
    "\n",
    "# Locate login elements\n",
    "user_element = driver.find_element_by_name(\"amember_login\")\n",
    "pass_element = driver.find_element_by_name(\"amember_pass\")\n",
    "\n",
    "# Input user credentials\n",
    "user_element.send_keys(credentials['amember_login'])\n",
    "pass_element.send_keys(credentials['amember_pass'])\n",
    "\n",
    "# Click the login button\n",
    "driver.find_element_by_xpath(\"//input[@value='Login']\").click()"
   ]
  },
  {
   "cell_type": "markdown",
   "metadata": {},
   "source": [
    "Now that we have our login credentials instantiated into the selenium driver object, we can now access the surface tracks API."
   ]
  },
  {
   "cell_type": "code",
   "execution_count": 23,
   "metadata": {
    "colab": {},
    "colab_type": "code",
    "id": "vdm9lWEf_pIQ"
   },
   "outputs": [],
   "source": [
    "# Sample API url\n",
    "driver.get('https://www.surfacetracks.com/plus/get-feature.php?id=107368')"
   ]
  },
  {
   "cell_type": "code",
   "execution_count": 24,
   "metadata": {
    "colab": {},
    "colab_type": "code",
    "id": "bmGFBdGo_pKr"
   },
   "outputs": [],
   "source": [
    "# Locate element containing json data\n",
    "api_get = driver.find_element_by_xpath(\"//pre[@style='word-wrap: break-word; white-space: pre-wrap;']\")"
   ]
  },
  {
   "cell_type": "code",
   "execution_count": 25,
   "metadata": {},
   "outputs": [
    {
     "data": {
      "text/plain": [
       "'{\"UID\":\"107368\",\"Type\":\"Pro\",\"Est\":\"426\",\"Latitude\":\"30.43443\",\"Longitude\":\"-84.28134\",\"ChainName\":\"Low Clearance\",\"Name\":\"Low Clearance\",\"Address\":\"E Bloxham St\",\"City\":\"Tallahassee\",\"St\":\"FL\",\"Zip\":\"32301\",\"Phone\":\"\",\"Web\":\"\",\"Directions\":\"\",\"Cat\":\"LC12\",\"County\":\"\",\"RecordID\":\"\",\"Elev\":\"\",\"trail\":\"\",\"hike\":\"\",\"AmenitiesExtra\":\"\",\"Comments\":\"12 - 6 height clearance (136)\",\"brand\":\"low-clearance\",\"CatName\":\"\",\"PushPin\":\"low_12_pushpin\",\"bIcon\":\"<\\\\/div>\\', LC12Icon)\",\"Keyfilter\":\"-136%\",\"Pin\":\"low_12_6_pushpin\"}'"
      ]
     },
     "execution_count": 25,
     "metadata": {},
     "output_type": "execute_result"
    }
   ],
   "source": [
    "api_get.text"
   ]
  },
  {
   "cell_type": "markdown",
   "metadata": {
    "colab_type": "text",
    "id": "gXcCvMhq__pn"
   },
   "source": [
    "## Auto Scrape (w/ Selenium)"
   ]
  },
  {
   "cell_type": "markdown",
   "metadata": {},
   "source": [
    "Our next goal is to automate the scraping process by iterating the id number in each API url. We want every combination of ID to be scraped so that we ensure all data is recorded."
   ]
  },
  {
   "cell_type": "code",
   "execution_count": 26,
   "metadata": {
    "colab": {},
    "colab_type": "code",
    "id": "uRLk0cmB_pO9"
   },
   "outputs": [],
   "source": [
    "# We will initially test with the last two digits of the ID\n",
    "base_url = 'https://www.surfacetracks.com/plus/get-feature.php?id=1073'\n",
    "\n",
    "num_dict = {\n",
    "    0:'0',\n",
    "    1:'1',\n",
    "    2:'2',\n",
    "    3:'3',\n",
    "    4:'4',\n",
    "    5:'5',\n",
    "    6:'6',\n",
    "    7:'7',\n",
    "    8:'8',\n",
    "    9:'9'\n",
    "}"
   ]
  },
  {
   "cell_type": "code",
   "execution_count": 27,
   "metadata": {
    "colab": {},
    "colab_type": "code",
    "id": "YkqDPK6f_pRP"
   },
   "outputs": [],
   "source": [
    "url_list = []\n",
    "\n",
    "ones_counter = 0\n",
    "twos_counter = 0\n",
    "\n",
    "for i in range(1,101):\n",
    "    \n",
    "    if ones_counter == 10:\n",
    "        ones_counter = ones_counter - 10\n",
    "        twos_counter += 1\n",
    "    \n",
    "    url = base_url + num_dict[twos_counter] + num_dict[ones_counter]\n",
    "    url_list.append(url)\n",
    "    ones_counter += 1"
   ]
  },
  {
   "cell_type": "code",
   "execution_count": 28,
   "metadata": {
    "colab": {},
    "colab_type": "code",
    "id": "--vv2Ta2_pTb",
    "scrolled": true
   },
   "outputs": [
    {
     "data": {
      "text/plain": [
       "['https://www.surfacetracks.com/plus/get-feature.php?id=107300',\n",
       " 'https://www.surfacetracks.com/plus/get-feature.php?id=107301',\n",
       " 'https://www.surfacetracks.com/plus/get-feature.php?id=107302',\n",
       " 'https://www.surfacetracks.com/plus/get-feature.php?id=107303',\n",
       " 'https://www.surfacetracks.com/plus/get-feature.php?id=107304',\n",
       " 'https://www.surfacetracks.com/plus/get-feature.php?id=107305',\n",
       " 'https://www.surfacetracks.com/plus/get-feature.php?id=107306',\n",
       " 'https://www.surfacetracks.com/plus/get-feature.php?id=107307',\n",
       " 'https://www.surfacetracks.com/plus/get-feature.php?id=107308',\n",
       " 'https://www.surfacetracks.com/plus/get-feature.php?id=107309',\n",
       " 'https://www.surfacetracks.com/plus/get-feature.php?id=107310',\n",
       " 'https://www.surfacetracks.com/plus/get-feature.php?id=107311',\n",
       " 'https://www.surfacetracks.com/plus/get-feature.php?id=107312',\n",
       " 'https://www.surfacetracks.com/plus/get-feature.php?id=107313',\n",
       " 'https://www.surfacetracks.com/plus/get-feature.php?id=107314',\n",
       " 'https://www.surfacetracks.com/plus/get-feature.php?id=107315',\n",
       " 'https://www.surfacetracks.com/plus/get-feature.php?id=107316',\n",
       " 'https://www.surfacetracks.com/plus/get-feature.php?id=107317',\n",
       " 'https://www.surfacetracks.com/plus/get-feature.php?id=107318',\n",
       " 'https://www.surfacetracks.com/plus/get-feature.php?id=107319',\n",
       " 'https://www.surfacetracks.com/plus/get-feature.php?id=107320',\n",
       " 'https://www.surfacetracks.com/plus/get-feature.php?id=107321',\n",
       " 'https://www.surfacetracks.com/plus/get-feature.php?id=107322',\n",
       " 'https://www.surfacetracks.com/plus/get-feature.php?id=107323',\n",
       " 'https://www.surfacetracks.com/plus/get-feature.php?id=107324',\n",
       " 'https://www.surfacetracks.com/plus/get-feature.php?id=107325',\n",
       " 'https://www.surfacetracks.com/plus/get-feature.php?id=107326',\n",
       " 'https://www.surfacetracks.com/plus/get-feature.php?id=107327',\n",
       " 'https://www.surfacetracks.com/plus/get-feature.php?id=107328',\n",
       " 'https://www.surfacetracks.com/plus/get-feature.php?id=107329',\n",
       " 'https://www.surfacetracks.com/plus/get-feature.php?id=107330',\n",
       " 'https://www.surfacetracks.com/plus/get-feature.php?id=107331',\n",
       " 'https://www.surfacetracks.com/plus/get-feature.php?id=107332',\n",
       " 'https://www.surfacetracks.com/plus/get-feature.php?id=107333',\n",
       " 'https://www.surfacetracks.com/plus/get-feature.php?id=107334',\n",
       " 'https://www.surfacetracks.com/plus/get-feature.php?id=107335',\n",
       " 'https://www.surfacetracks.com/plus/get-feature.php?id=107336',\n",
       " 'https://www.surfacetracks.com/plus/get-feature.php?id=107337',\n",
       " 'https://www.surfacetracks.com/plus/get-feature.php?id=107338',\n",
       " 'https://www.surfacetracks.com/plus/get-feature.php?id=107339',\n",
       " 'https://www.surfacetracks.com/plus/get-feature.php?id=107340',\n",
       " 'https://www.surfacetracks.com/plus/get-feature.php?id=107341',\n",
       " 'https://www.surfacetracks.com/plus/get-feature.php?id=107342',\n",
       " 'https://www.surfacetracks.com/plus/get-feature.php?id=107343',\n",
       " 'https://www.surfacetracks.com/plus/get-feature.php?id=107344',\n",
       " 'https://www.surfacetracks.com/plus/get-feature.php?id=107345',\n",
       " 'https://www.surfacetracks.com/plus/get-feature.php?id=107346',\n",
       " 'https://www.surfacetracks.com/plus/get-feature.php?id=107347',\n",
       " 'https://www.surfacetracks.com/plus/get-feature.php?id=107348',\n",
       " 'https://www.surfacetracks.com/plus/get-feature.php?id=107349',\n",
       " 'https://www.surfacetracks.com/plus/get-feature.php?id=107350',\n",
       " 'https://www.surfacetracks.com/plus/get-feature.php?id=107351',\n",
       " 'https://www.surfacetracks.com/plus/get-feature.php?id=107352',\n",
       " 'https://www.surfacetracks.com/plus/get-feature.php?id=107353',\n",
       " 'https://www.surfacetracks.com/plus/get-feature.php?id=107354',\n",
       " 'https://www.surfacetracks.com/plus/get-feature.php?id=107355',\n",
       " 'https://www.surfacetracks.com/plus/get-feature.php?id=107356',\n",
       " 'https://www.surfacetracks.com/plus/get-feature.php?id=107357',\n",
       " 'https://www.surfacetracks.com/plus/get-feature.php?id=107358',\n",
       " 'https://www.surfacetracks.com/plus/get-feature.php?id=107359',\n",
       " 'https://www.surfacetracks.com/plus/get-feature.php?id=107360',\n",
       " 'https://www.surfacetracks.com/plus/get-feature.php?id=107361',\n",
       " 'https://www.surfacetracks.com/plus/get-feature.php?id=107362',\n",
       " 'https://www.surfacetracks.com/plus/get-feature.php?id=107363',\n",
       " 'https://www.surfacetracks.com/plus/get-feature.php?id=107364',\n",
       " 'https://www.surfacetracks.com/plus/get-feature.php?id=107365',\n",
       " 'https://www.surfacetracks.com/plus/get-feature.php?id=107366',\n",
       " 'https://www.surfacetracks.com/plus/get-feature.php?id=107367',\n",
       " 'https://www.surfacetracks.com/plus/get-feature.php?id=107368',\n",
       " 'https://www.surfacetracks.com/plus/get-feature.php?id=107369',\n",
       " 'https://www.surfacetracks.com/plus/get-feature.php?id=107370',\n",
       " 'https://www.surfacetracks.com/plus/get-feature.php?id=107371',\n",
       " 'https://www.surfacetracks.com/plus/get-feature.php?id=107372',\n",
       " 'https://www.surfacetracks.com/plus/get-feature.php?id=107373',\n",
       " 'https://www.surfacetracks.com/plus/get-feature.php?id=107374',\n",
       " 'https://www.surfacetracks.com/plus/get-feature.php?id=107375',\n",
       " 'https://www.surfacetracks.com/plus/get-feature.php?id=107376',\n",
       " 'https://www.surfacetracks.com/plus/get-feature.php?id=107377',\n",
       " 'https://www.surfacetracks.com/plus/get-feature.php?id=107378',\n",
       " 'https://www.surfacetracks.com/plus/get-feature.php?id=107379',\n",
       " 'https://www.surfacetracks.com/plus/get-feature.php?id=107380',\n",
       " 'https://www.surfacetracks.com/plus/get-feature.php?id=107381',\n",
       " 'https://www.surfacetracks.com/plus/get-feature.php?id=107382',\n",
       " 'https://www.surfacetracks.com/plus/get-feature.php?id=107383',\n",
       " 'https://www.surfacetracks.com/plus/get-feature.php?id=107384',\n",
       " 'https://www.surfacetracks.com/plus/get-feature.php?id=107385',\n",
       " 'https://www.surfacetracks.com/plus/get-feature.php?id=107386',\n",
       " 'https://www.surfacetracks.com/plus/get-feature.php?id=107387',\n",
       " 'https://www.surfacetracks.com/plus/get-feature.php?id=107388',\n",
       " 'https://www.surfacetracks.com/plus/get-feature.php?id=107389',\n",
       " 'https://www.surfacetracks.com/plus/get-feature.php?id=107390',\n",
       " 'https://www.surfacetracks.com/plus/get-feature.php?id=107391',\n",
       " 'https://www.surfacetracks.com/plus/get-feature.php?id=107392',\n",
       " 'https://www.surfacetracks.com/plus/get-feature.php?id=107393',\n",
       " 'https://www.surfacetracks.com/plus/get-feature.php?id=107394',\n",
       " 'https://www.surfacetracks.com/plus/get-feature.php?id=107395',\n",
       " 'https://www.surfacetracks.com/plus/get-feature.php?id=107396',\n",
       " 'https://www.surfacetracks.com/plus/get-feature.php?id=107397',\n",
       " 'https://www.surfacetracks.com/plus/get-feature.php?id=107398',\n",
       " 'https://www.surfacetracks.com/plus/get-feature.php?id=107399']"
      ]
     },
     "execution_count": 28,
     "metadata": {},
     "output_type": "execute_result"
    }
   ],
   "source": [
    "# All combinations from 107300 to 107399\n",
    "url_list"
   ]
  },
  {
   "cell_type": "code",
   "execution_count": 29,
   "metadata": {
    "colab": {},
    "colab_type": "code",
    "id": "CdZs2xP7_pVp"
   },
   "outputs": [],
   "source": [
    "json_list = []\n",
    "\n",
    "for url in url_list:\n",
    "    \n",
    "    driver.get(url)\n",
    "    api_scrape = driver.find_element_by_xpath(\"//pre[@style='word-wrap: break-word; white-space: pre-wrap;']\").text\n",
    "    json_list.append(api_scrape)\n",
    "    \n",
    "    # Time function so that we do not overload the server \n",
    "    time.sleep(1.5)"
   ]
  },
  {
   "cell_type": "code",
   "execution_count": 30,
   "metadata": {
    "colab": {},
    "colab_type": "code",
    "id": "QvXLwq0d_pYE"
   },
   "outputs": [
    {
     "data": {
      "text/plain": [
       "['null',\n",
       " 'null',\n",
       " 'null',\n",
       " 'null',\n",
       " 'null',\n",
       " 'null',\n",
       " 'null',\n",
       " 'null',\n",
       " 'null',\n",
       " 'null',\n",
       " 'null',\n",
       " 'null',\n",
       " 'null',\n",
       " 'null',\n",
       " 'null',\n",
       " 'null',\n",
       " 'null',\n",
       " 'null',\n",
       " 'null',\n",
       " 'null',\n",
       " 'null',\n",
       " 'null',\n",
       " 'null',\n",
       " 'null',\n",
       " 'null',\n",
       " 'null',\n",
       " 'null',\n",
       " 'null',\n",
       " 'null',\n",
       " 'null',\n",
       " 'null',\n",
       " 'null',\n",
       " 'null',\n",
       " 'null',\n",
       " 'null',\n",
       " 'null',\n",
       " 'null',\n",
       " 'null',\n",
       " 'null',\n",
       " 'null',\n",
       " 'null',\n",
       " 'null',\n",
       " 'null',\n",
       " 'null',\n",
       " 'null',\n",
       " 'null',\n",
       " 'null',\n",
       " 'null',\n",
       " 'null',\n",
       " 'null',\n",
       " 'null',\n",
       " 'null',\n",
       " 'null',\n",
       " 'null',\n",
       " 'null',\n",
       " 'null',\n",
       " 'null',\n",
       " 'null',\n",
       " 'null',\n",
       " 'null',\n",
       " 'null',\n",
       " 'null',\n",
       " 'null',\n",
       " 'null',\n",
       " 'null',\n",
       " 'null',\n",
       " 'null',\n",
       " 'null',\n",
       " '{\"UID\":\"107368\",\"Type\":\"Pro\",\"Est\":\"426\",\"Latitude\":\"30.43443\",\"Longitude\":\"-84.28134\",\"ChainName\":\"Low Clearance\",\"Name\":\"Low Clearance\",\"Address\":\"E Bloxham St\",\"City\":\"Tallahassee\",\"St\":\"FL\",\"Zip\":\"32301\",\"Phone\":\"\",\"Web\":\"\",\"Directions\":\"\",\"Cat\":\"LC12\",\"County\":\"\",\"RecordID\":\"\",\"Elev\":\"\",\"trail\":\"\",\"hike\":\"\",\"AmenitiesExtra\":\"\",\"Comments\":\"12 - 6 height clearance (136)\",\"brand\":\"low-clearance\",\"CatName\":\"\",\"PushPin\":\"low_12_pushpin\",\"bIcon\":\"<\\\\/div>\\', LC12Icon)\",\"Keyfilter\":\"-136%\",\"Pin\":\"low_12_6_pushpin\"}',\n",
       " '{\"UID\":\"107369\",\"Type\":\"Pro\",\"Est\":\"426\",\"Latitude\":\"30.43445\",\"Longitude\":\"-84.28045\",\"ChainName\":\"Low Clearance\",\"Name\":\"Low Clearance\",\"Address\":\"E Bloxham St\",\"City\":\"Tallahassee\",\"St\":\"FL\",\"Zip\":\"32301\",\"Phone\":\"\",\"Web\":\"\",\"Directions\":\"\",\"Cat\":\"LC12\",\"County\":\"\",\"RecordID\":\"\",\"Elev\":\"\",\"trail\":\"\",\"hike\":\"\",\"AmenitiesExtra\":\"\",\"Comments\":\"12 - 6 height clearance (136)\",\"brand\":\"low-clearance\",\"CatName\":\"\",\"PushPin\":\"low_12_pushpin\",\"bIcon\":\"<\\\\/div>\\', LC12Icon)\",\"Keyfilter\":\"-136%\",\"Pin\":\"low_12_6_pushpin\"}',\n",
       " '{\"UID\":\"107370\",\"Type\":\"Pro\",\"Est\":\"427\",\"Latitude\":\"30.43752\",\"Longitude\":\"-84.27335\",\"ChainName\":\"Low Clearance\",\"Name\":\"Low Clearance\",\"Address\":\"E Lafayette St\",\"City\":\"Tallahassee\",\"St\":\"FL\",\"Zip\":\"32301\",\"Phone\":\"\",\"Web\":\"\",\"Directions\":\"\",\"Cat\":\"LC13\",\"County\":\"\",\"RecordID\":\"\",\"Elev\":\"\",\"trail\":\"\",\"hike\":\"\",\"AmenitiesExtra\":\"\",\"Comments\":\"13 - 4 height clearance (136)\",\"brand\":\"low-clearance\",\"CatName\":\"\",\"PushPin\":\"low_13_pushpin\",\"bIcon\":\"<\\\\/div>\\', LC13Icon)\",\"Keyfilter\":\"-136%\",\"Pin\":\"low_13_4_pushpin\"}',\n",
       " '{\"UID\":\"107371\",\"Type\":\"Pro\",\"Est\":\"427\",\"Latitude\":\"30.43794\",\"Longitude\":\"-84.27832\",\"ChainName\":\"Low Clearance\",\"Name\":\"Low Clearance\",\"Address\":\"S Gadsden St\",\"City\":\"Tallahassee\",\"St\":\"FL\",\"Zip\":\"32301\",\"Phone\":\"\",\"Web\":\"\",\"Directions\":\"\",\"Cat\":\"LC13\",\"County\":\"\",\"RecordID\":\"\",\"Elev\":\"\",\"trail\":\"\",\"hike\":\"\",\"AmenitiesExtra\":\"\",\"Comments\":\"13 - 4 height clearance (136)\",\"brand\":\"low-clearance\",\"CatName\":\"\",\"PushPin\":\"low_13_pushpin\",\"bIcon\":\"<\\\\/div>\\', LC13Icon)\",\"Keyfilter\":\"-136%\",\"Pin\":\"low_13_4_pushpin\"}',\n",
       " '{\"UID\":\"107372\",\"Type\":\"Pro\",\"Est\":\"427\",\"Latitude\":\"30.4383\",\"Longitude\":\"-84.27632\",\"ChainName\":\"Low Clearance\",\"Name\":\"Low Clearance\",\"Address\":\"S Franklin Blvd\",\"City\":\"Tallahassee\",\"St\":\"FL\",\"Zip\":\"32301\",\"Phone\":\"\",\"Web\":\"\",\"Directions\":\"\",\"Cat\":\"LC13\",\"County\":\"\",\"RecordID\":\"\",\"Elev\":\"\",\"trail\":\"\",\"hike\":\"\",\"AmenitiesExtra\":\"\",\"Comments\":\"13 - 4 height clearance (136)\",\"brand\":\"low-clearance\",\"CatName\":\"\",\"PushPin\":\"low_13_pushpin\",\"bIcon\":\"<\\\\/div>\\', LC13Icon)\",\"Keyfilter\":\"-136%\",\"Pin\":\"low_13_4_pushpin\"}',\n",
       " '{\"UID\":\"107373\",\"Type\":\"Pro\",\"Est\":\"428\",\"Latitude\":\"30.45547\",\"Longitude\":\"-84.34353\",\"ChainName\":\"Low Clearance\",\"Name\":\"Low Clearance\",\"Address\":\"W Tennessee St\",\"City\":\"Tallahassee\",\"St\":\"FL\",\"Zip\":\"32301\",\"Phone\":\"\",\"Web\":\"\",\"Directions\":\"\",\"Cat\":\"LC14\",\"County\":\"\",\"RecordID\":\"\",\"Elev\":\"\",\"trail\":\"\",\"hike\":\"\",\"AmenitiesExtra\":\"\",\"Comments\":\"14 - 0 height clearance\",\"brand\":\"low-clearance\",\"CatName\":\"\",\"PushPin\":\"low_14_pushpin\",\"bIcon\":\"<\\\\/div>\\', LC14Icon)\",\"Keyfilter\":\"\",\"Pin\":\"low_14_0_pushpin\"}',\n",
       " 'null',\n",
       " 'null',\n",
       " 'null',\n",
       " 'null',\n",
       " 'null',\n",
       " 'null',\n",
       " 'null',\n",
       " 'null',\n",
       " 'null',\n",
       " 'null',\n",
       " 'null',\n",
       " 'null',\n",
       " 'null',\n",
       " 'null',\n",
       " 'null',\n",
       " 'null',\n",
       " 'null',\n",
       " 'null',\n",
       " 'null',\n",
       " 'null',\n",
       " 'null',\n",
       " 'null',\n",
       " 'null',\n",
       " 'null',\n",
       " 'null',\n",
       " 'null']"
      ]
     },
     "execution_count": 30,
     "metadata": {},
     "output_type": "execute_result"
    }
   ],
   "source": [
    "json_list"
   ]
  },
  {
   "cell_type": "code",
   "execution_count": null,
   "metadata": {},
   "outputs": [],
   "source": []
  }
 ],
 "metadata": {
  "colab": {
   "name": "road_hazard_scrape.ipynb",
   "provenance": [],
   "version": "0.3.2"
  },
  "kernelspec": {
   "display_name": "Python 3",
   "language": "python",
   "name": "python3"
  },
  "language_info": {
   "codemirror_mode": {
    "name": "ipython",
    "version": 3
   },
   "file_extension": ".py",
   "mimetype": "text/x-python",
   "name": "python",
   "nbconvert_exporter": "python",
   "pygments_lexer": "ipython3",
   "version": "3.7.1"
  }
 },
 "nbformat": 4,
 "nbformat_minor": 1
}
