{
  "nbformat": 4,
  "nbformat_minor": 0,
  "metadata": {
    "colab": {
      "name": "road_hazard_scrape.ipynb",
      "version": "0.3.2",
      "provenance": []
    },
    "kernelspec": {
      "name": "python3",
      "display_name": "Python 3"
    }
  },
  "cells": [
    {
      "cell_type": "code",
      "metadata": {
        "id": "4UFIIScM_oM7",
        "colab_type": "code",
        "colab": {}
      },
      "source": [
        "import pandas as pd\n",
        "import numpy as np\n",
        "import os\n",
        "import glob\n",
        "import json\n",
        "import re\n",
        "\n",
        "import time\n",
        "from selenium import webdriver"
      ],
      "execution_count": 0,
      "outputs": []
    },
    {
      "cell_type": "markdown",
      "metadata": {
        "id": "1ffYUggJACuo",
        "colab_type": "text"
      },
      "source": [
        "## Selenium"
      ]
    },
    {
      "cell_type": "code",
      "metadata": {
        "id": "143Pi3wO_wU6",
        "colab_type": "code",
        "colab": {
          "base_uri": "https://localhost:8080/",
          "height": 139
        },
        "outputId": "bbe94bed-30f5-42b0-ea48-eb7cd2ace531"
      },
      "source": [
        "!pip install selenium"
      ],
      "execution_count": 4,
      "outputs": [
        {
          "output_type": "stream",
          "text": [
            "Collecting selenium\n",
            "\u001b[?25l  Downloading https://files.pythonhosted.org/packages/80/d6/4294f0b4bce4de0abf13e17190289f9d0613b0a44e5dd6a7f5ca98459853/selenium-3.141.0-py2.py3-none-any.whl (904kB)\n",
            "\u001b[K     |████████████████████████████████| 911kB 2.7MB/s \n",
            "\u001b[?25hRequirement already satisfied: urllib3 in /usr/local/lib/python3.6/dist-packages (from selenium) (1.24.3)\n",
            "Installing collected packages: selenium\n",
            "Successfully installed selenium-3.141.0\n"
          ],
          "name": "stdout"
        }
      ]
    },
    {
      "cell_type": "code",
      "metadata": {
        "id": "-yBPPd8V_pDu",
        "colab_type": "code",
        "colab": {
          "base_uri": "https://localhost:8080/",
          "height": 181
        },
        "outputId": "45b8c925-6fe3-42c2-fac2-0f7b1a71c66a"
      },
      "source": [
        "with open('st_credentials.json') as creds:    \n",
        "    credentials = json.load(creds)"
      ],
      "execution_count": 6,
      "outputs": [
        {
          "output_type": "error",
          "ename": "FileNotFoundError",
          "evalue": "ignored",
          "traceback": [
            "\u001b[0;31m---------------------------------------------------------------------------\u001b[0m",
            "\u001b[0;31mFileNotFoundError\u001b[0m                         Traceback (most recent call last)",
            "\u001b[0;32m<ipython-input-6-e634b4a98e79>\u001b[0m in \u001b[0;36m<module>\u001b[0;34m()\u001b[0m\n\u001b[0;32m----> 1\u001b[0;31m \u001b[0;32mwith\u001b[0m \u001b[0mopen\u001b[0m\u001b[0;34m(\u001b[0m\u001b[0;34m'st_credentials.json'\u001b[0m\u001b[0;34m)\u001b[0m \u001b[0;32mas\u001b[0m \u001b[0mcreds\u001b[0m\u001b[0;34m:\u001b[0m\u001b[0;34m\u001b[0m\u001b[0;34m\u001b[0m\u001b[0m\n\u001b[0m\u001b[1;32m      2\u001b[0m     \u001b[0mcredentials\u001b[0m \u001b[0;34m=\u001b[0m \u001b[0mjson\u001b[0m\u001b[0;34m.\u001b[0m\u001b[0mload\u001b[0m\u001b[0;34m(\u001b[0m\u001b[0mcreds\u001b[0m\u001b[0;34m)\u001b[0m\u001b[0;34m\u001b[0m\u001b[0;34m\u001b[0m\u001b[0m\n",
            "\u001b[0;31mFileNotFoundError\u001b[0m: [Errno 2] No such file or directory: 'st_credentials.json'"
          ]
        }
      ]
    },
    {
      "cell_type": "code",
      "metadata": {
        "id": "86IxEzMP_pF5",
        "colab_type": "code",
        "colab": {}
      },
      "source": [
        "driver = webdriver.Chrome()\n",
        "\n",
        "driver.get(\"https://www.surfacetracks.com/amember/login\")\n",
        "\n",
        "user_element = driver.find_element_by_name(\"amember_login\")\n",
        "pass_element = driver.find_element_by_name(\"amember_pass\")\n",
        "\n",
        "\n",
        "user_element.send_keys(credentials['amember_login'])\n",
        "pass_element.send_keys(credentials['amember_pass'])\n",
        "\n",
        "driver.find_element_by_xpath(\"//input[@value='Login']\").click()"
      ],
      "execution_count": 0,
      "outputs": []
    },
    {
      "cell_type": "code",
      "metadata": {
        "id": "vdm9lWEf_pIQ",
        "colab_type": "code",
        "colab": {}
      },
      "source": [
        "driver.get('https://www.surfacetracks.com/plus/get-feature.php?id=107305')"
      ],
      "execution_count": 0,
      "outputs": []
    },
    {
      "cell_type": "code",
      "metadata": {
        "id": "bmGFBdGo_pKr",
        "colab_type": "code",
        "colab": {}
      },
      "source": [
        "api_get = driver.find_element_by_xpath(\"//pre[@style='word-wrap: break-word; white-space: pre-wrap;']\")"
      ],
      "execution_count": 0,
      "outputs": []
    },
    {
      "cell_type": "markdown",
      "metadata": {
        "id": "gXcCvMhq__pn",
        "colab_type": "text"
      },
      "source": [
        "## Auto Scrape (w/ Selenium)"
      ]
    },
    {
      "cell_type": "code",
      "metadata": {
        "id": "uRLk0cmB_pO9",
        "colab_type": "code",
        "colab": {}
      },
      "source": [
        "base_url = 'https://www.surfacetracks.com/plus/get-feature.php?id=1073'\n",
        "\n",
        "num_dict = {\n",
        "    0:'0',\n",
        "    1:'1',\n",
        "    2:'2',\n",
        "    3:'3',\n",
        "    4:'4',\n",
        "    5:'5',\n",
        "    6:'6',\n",
        "    7:'7',\n",
        "    8:'8',\n",
        "    9:'9'\n",
        "}"
      ],
      "execution_count": 0,
      "outputs": []
    },
    {
      "cell_type": "code",
      "metadata": {
        "id": "YkqDPK6f_pRP",
        "colab_type": "code",
        "colab": {}
      },
      "source": [
        "url_list = []\n",
        "\n",
        "ones_counter = 0\n",
        "twos_counter = 0\n",
        "\n",
        "for i in range(1,101):\n",
        "    \n",
        "    if ones_counter == 10:\n",
        "        ones_counter = ones_counter - 10\n",
        "        twos_counter += 1\n",
        "    \n",
        "    url = base_url + num_dict[twos_counter] + num_dict[ones_counter]\n",
        "    url_list.append(url)\n",
        "    ones_counter += 1"
      ],
      "execution_count": 0,
      "outputs": []
    },
    {
      "cell_type": "code",
      "metadata": {
        "id": "--vv2Ta2_pTb",
        "colab_type": "code",
        "colab": {}
      },
      "source": [
        "url_list"
      ],
      "execution_count": 0,
      "outputs": []
    },
    {
      "cell_type": "code",
      "metadata": {
        "id": "CdZs2xP7_pVp",
        "colab_type": "code",
        "colab": {}
      },
      "source": [
        "json_list = []\n",
        "\n",
        "for url in url_list:\n",
        "    \n",
        "    driver.get(url)\n",
        "    api_scrape = driver.find_element_by_xpath(\"//pre[@style='word-wrap: break-word; white-space: pre-wrap;']\").text\n",
        "    json_list.append(api_scrape)\n",
        "    time.sleep(1.5)"
      ],
      "execution_count": 0,
      "outputs": []
    },
    {
      "cell_type": "code",
      "metadata": {
        "id": "QvXLwq0d_pYE",
        "colab_type": "code",
        "colab": {}
      },
      "source": [
        "json_list"
      ],
      "execution_count": 0,
      "outputs": []
    }
  ]
}